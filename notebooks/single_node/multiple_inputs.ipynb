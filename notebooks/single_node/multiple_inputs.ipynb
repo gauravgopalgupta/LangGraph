{
 "cells": [
  {
   "cell_type": "markdown",
   "id": "467f7da5",
   "metadata": {},
   "source": [
    "# Multiple Input Agent\n",
    "\n",
    "this agent is taking a list of integers whose sum is the age of another parameter passing as name.\n"
   ]
  },
  {
   "cell_type": "code",
   "execution_count": 2,
   "id": "fe1ef4f8",
   "metadata": {},
   "outputs": [],
   "source": [
    "from typing import TypedDict, List\n",
    "from langgraph.graph import StateGraph\n",
    "from IPython.display import Image, display"
   ]
  },
  {
   "cell_type": "code",
   "execution_count": 4,
   "id": "00edcfa0",
   "metadata": {},
   "outputs": [],
   "source": [
    "class AgentState(TypedDict):\n",
    "    values : List[int]\n",
    "    name : str\n",
    "    message : str"
   ]
  },
  {
   "cell_type": "code",
   "execution_count": 5,
   "id": "a6a8f488",
   "metadata": {},
   "outputs": [],
   "source": [
    "def multi_process(state : AgentState) -> AgentState:\n",
    "    \"\"\"The state action handles multiple values and finding age by adding numbers from a list\"\"\"\n",
    "    state[\"message\"] = f\"Hey {state[\"name\"]}, your age is {sum(state[\"values\"])}.\"\n",
    "    return state"
   ]
  },
  {
   "cell_type": "code",
   "execution_count": 6,
   "id": "285c1514",
   "metadata": {},
   "outputs": [],
   "source": [
    "graph = StateGraph(AgentState)\n",
    "graph.add_node(\"age_calculator\", multi_process)\n",
    "graph.set_entry_point(\"age_calculator\")\n",
    "graph.set_finish_point(\"age_calculator\")\n",
    "\n",
    "app = graph.compile()"
   ]
  },
  {
   "cell_type": "code",
   "execution_count": 8,
   "id": "61f188cd",
   "metadata": {},
   "outputs": [
    {
     "data": {
      "image/png": "[encoded data removed]",
      "text/plain": [
       "<IPython.core.display.Image object>"
      ]
     },
     "metadata": {},
     "output_type": "display_data"
    }
   ],
   "source": [
    "display(Image(app.get_graph().draw_mermaid_png()))"
   ]
  },
  {
   "cell_type": "code",
   "execution_count": 9,
   "id": "12bf5d28",
   "metadata": {},
   "outputs": [
    {
     "data": {
      "text/plain": [
       "'Hey Gaurav, your age is 28.'"
      ]
     },
     "execution_count": 9,
     "metadata": {},
     "output_type": "execute_result"
    }
   ],
   "source": [
    "result = app.invoke({\"name\" : \"Gaurav\", \"values\" : [1,2,3,4,5,6,7]})\n",
    "result[\"message\"]"
   ]
  },
  {
   "cell_type": "markdown",
   "id": "47c016c4",
   "metadata": {},
   "source": []
  }
 ],
 "metadata": {
  "kernelspec": {
   "display_name": "gen_ai",
   "language": "python",
   "name": "python3"
  },
  "language_info": {
   "codemirror_mode": {
    "name": "ipython",
    "version": 3
   },
   "file_extension": ".py",
   "mimetype": "text/x-python",
   "name": "python",
   "nbconvert_exporter": "python",
   "pygments_lexer": "ipython3",
   "version": "3.13.3"
  }
 },
 "nbformat": 4,
 "nbformat_minor": 5
}

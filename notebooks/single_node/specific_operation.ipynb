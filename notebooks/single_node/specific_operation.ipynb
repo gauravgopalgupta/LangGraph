{
 "cells": [
  {
   "cell_type": "markdown",
   "id": "c74a3915",
   "metadata": {},
   "source": [
    "# Specific operations for a list of Integer"
   ]
  },
  {
   "cell_type": "code",
   "execution_count": null,
   "id": "2fb7457a",
   "metadata": {},
   "outputs": [],
   "source": [
    "from typing import TypedDict, List\n",
    "from langgraph.graph import StateGraph\n",
    "from IPython.display import Image, display"
   ]
  },
  {
   "cell_type": "code",
   "execution_count": 4,
   "id": "04b6f488",
   "metadata": {},
   "outputs": [],
   "source": [
    "class AgentState(TypedDict):\n",
    "    values : List[int]\n",
    "    name : str\n",
    "    operation : str\n",
    "    message : str\n",
    "\n",
    "def operation(state : AgentState) -> AgentState:\n",
    "    \"\"\"The function which perform the given operation on to the list of integers and return\n",
    "    a message.\"\"\"\n",
    "    if state['operation'] == '+':\n",
    "        state[\"message\"] = f\"Hey {state['name']}, your age is {sum(state['values'])}.\"\n",
    "    elif state['operation'] == '*':\n",
    "        ans = 1\n",
    "        for val in state['values']:\n",
    "            ans *= val\n",
    "        state['message'] = f\"Hey {state['name']}, your weight is {ans}.\"\n",
    "    else:\n",
    "        state['message'] = f\"Hey {state['name']}, this agent supports either '+' or '*' operation.\"\n",
    "    return state\n"
   ]
  },
  {
   "cell_type": "code",
   "execution_count": 5,
   "id": "bca5ff4c",
   "metadata": {},
   "outputs": [],
   "source": [
    "graph = StateGraph(AgentState)\n",
    "\n",
    "graph.add_node(\"specific_operator\", operation)\n",
    "graph.set_entry_point(\"specific_operator\")\n",
    "graph.set_finish_point(\"specific_operator\")\n",
    "\n",
    "app = graph.compile()"
   ]
  },
  {
   "cell_type": "code",
   "execution_count": 7,
   "id": "e04a88ba",
   "metadata": {},
   "outputs": [
    {
     "data": {
      "image/png": "[encoded data removed]",
      "text/plain": [
       "<IPython.core.display.Image object>"
      ]
     },
     "metadata": {},
     "output_type": "display_data"
    }
   ],
   "source": [
    "display(Image(app.get_graph().draw_mermaid_png()))"
   ]
  },
  {
   "cell_type": "code",
   "execution_count": 11,
   "id": "3fbb25b5",
   "metadata": {},
   "outputs": [
    {
     "data": {
      "text/plain": [
       "'Hey Gaurav, your age is 28.'"
      ]
     },
     "execution_count": 11,
     "metadata": {},
     "output_type": "execute_result"
    }
   ],
   "source": [
    "result = app.invoke({\"name\": \"Gaurav\", \"values\" : [25,3], 'operation': '+'})\n",
    "result['message']"
   ]
  },
  {
   "cell_type": "code",
   "execution_count": 12,
   "id": "d91ddbed",
   "metadata": {},
   "outputs": [
    {
     "data": {
      "text/plain": [
       "'Hey Gaurav, your weight is 75.'"
      ]
     },
     "execution_count": 12,
     "metadata": {},
     "output_type": "execute_result"
    }
   ],
   "source": [
    "result = app.invoke({\"name\": \"Gaurav\", \"values\" : [25,3], 'operation': '*'})\n",
    "result['message']"
   ]
  },
  {
   "cell_type": "code",
   "execution_count": null,
   "id": "099c502e",
   "metadata": {},
   "outputs": [],
   "source": []
  }
 ],
 "metadata": {
  "kernelspec": {
   "display_name": "gen_ai",
   "language": "python",
   "name": "python3"
  },
  "language_info": {
   "codemirror_mode": {
    "name": "ipython",
    "version": 3
   },
   "file_extension": ".py",
   "mimetype": "text/x-python",
   "name": "python",
   "nbconvert_exporter": "python",
   "pygments_lexer": "ipython3",
   "version": "3.13.3"
  }
 },
 "nbformat": 4,
 "nbformat_minor": 5
}

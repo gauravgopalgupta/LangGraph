{
 "cells": [
  {
   "cell_type": "markdown",
   "id": "f9d0bf4b",
   "metadata": {},
   "source": [
    "# Conditional Graph tutorial"
   ]
  },
  {
   "cell_type": "markdown",
   "id": "5bb19bec",
   "metadata": {},
   "source": [
    "Conditional Graph\n",
    "\n",
    "    • Implement conditional logic to route the flow of data in a graph different nodes.\n",
    "    • Use START and END nodes to manage entry & exit points explicitly.\n",
    "    • Design multiple node to perform different operations.\n",
    "    • Create a route node to handle decision-making and control graph flow."
   ]
  },
  {
   "cell_type": "code",
   "execution_count": 24,
   "id": "5326feb1",
   "metadata": {},
   "outputs": [],
   "source": [
    "from typing import TypedDict\n",
    "from langgraph.graph import StateGraph, START, END\n",
    "from IPython.display import display, Image"
   ]
  },
  {
   "cell_type": "code",
   "execution_count": 25,
   "id": "e46e332a",
   "metadata": {},
   "outputs": [],
   "source": [
    "class AgentState(TypedDict):\n",
    "    num1: int\n",
    "    operation: str\n",
    "    num2: int\n",
    "    result: int"
   ]
  },
  {
   "cell_type": "code",
   "execution_count": 26,
   "id": "ddd2aa8c",
   "metadata": {},
   "outputs": [],
   "source": [
    "def adder(state: AgentState) -> AgentState:\n",
    "    \"\"\"This node is used for adding two numbers.\"\"\"\n",
    "    state['result'] = state['num1'] + state['num2']\n",
    "    return state\n",
    "\n",
    "def subtractor(state: AgentState) -> AgentState:\n",
    "    \"\"\"This node is used for subtracting second number from first number.\"\"\"\n",
    "    state['result'] = state['num1'] - state['num2']\n",
    "    return state\n",
    "\n",
    "def decide_next_node(state: AgentState) -> AgentState:\n",
    "    \"\"\"This node decide the next node according to the condition passed.\"\"\"\n",
    "\n",
    "    if state['operation'] == \"+\":\n",
    "        return \"addion_operation\"\n",
    "    elif state['operation'] == \"-\":\n",
    "        return \"subtraction_operation\"\n",
    "    "
   ]
  },
  {
   "cell_type": "code",
   "execution_count": 27,
   "id": "2eb1131a",
   "metadata": {},
   "outputs": [],
   "source": [
    "graph = StateGraph(AgentState)\n",
    "\n",
    "graph.add_node(\"add node\", adder)\n",
    "graph.add_node(\"subtract node\", subtractor)\n",
    "graph.add_node(\"router\", lambda state:state)\n",
    "\n",
    "graph.add_edge(START, \"router\")\n",
    "graph.add_conditional_edges(\"router\",\n",
    "                            decide_next_node,\n",
    "                            {\n",
    "                                # Edge : Node\n",
    "                                \"addion_operation\": \"add node\",\n",
    "                                \"subtraction_operation\": \"subtract node\"\n",
    "                            })\n",
    "graph.add_edge(\"add node\", END)\n",
    "graph.add_edge(\"subtract node\", END)\n",
    "\n",
    "app = graph.compile()\n"
   ]
  },
  {
   "cell_type": "code",
   "execution_count": 28,
   "id": "66dfc0b7",
   "metadata": {},
   "outputs": [
    {
     "data": {
      "image/png": "[encoded data removed]",
      "text/plain": [
       "<IPython.core.display.Image object>"
      ]
     },
     "metadata": {},
     "output_type": "display_data"
    }
   ],
   "source": [
    "\n",
    "display(Image(app.get_graph().draw_mermaid_png()))\n"
   ]
  },
  {
   "cell_type": "code",
   "execution_count": 29,
   "id": "b89197a5",
   "metadata": {},
   "outputs": [
    {
     "data": {
      "text/plain": [
       "5"
      ]
     },
     "execution_count": 29,
     "metadata": {},
     "output_type": "execute_result"
    }
   ],
   "source": [
    "initial_state = AgentState(num1 = 10, operation = \"-\", num2 = 5)\n",
    "message = app.invoke(initial_state)\n",
    "message['result']"
   ]
  },
  {
   "cell_type": "code",
   "execution_count": 30,
   "id": "c220cf4c",
   "metadata": {},
   "outputs": [
    {
     "data": {
      "text/plain": [
       "15"
      ]
     },
     "execution_count": 30,
     "metadata": {},
     "output_type": "execute_result"
    }
   ],
   "source": [
    "initial_state = AgentState(num1 = 10, operation = \"+\", num2 = 5)\n",
    "message = app.invoke(initial_state)\n",
    "message['result']"
   ]
  },
  {
   "cell_type": "code",
   "execution_count": null,
   "id": "57c12522",
   "metadata": {},
   "outputs": [],
   "source": []
  }
 ],
 "metadata": {
  "kernelspec": {
   "display_name": "gen_ai",
   "language": "python",
   "name": "python3"
  },
  "language_info": {
   "codemirror_mode": {
    "name": "ipython",
    "version": 3
   },
   "file_extension": ".py",
   "mimetype": "text/x-python",
   "name": "python",
   "nbconvert_exporter": "python",
   "pygments_lexer": "ipython3",
   "version": "3.13.3"
  }
 },
 "nbformat": 4,
 "nbformat_minor": 5
}

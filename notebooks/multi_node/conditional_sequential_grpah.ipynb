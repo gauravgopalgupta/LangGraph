{
 "cells": [
  {
   "cell_type": "markdown",
   "id": "d762e7b1",
   "metadata": {},
   "source": [
    "# Two condition in sequence"
   ]
  },
  {
   "cell_type": "code",
   "execution_count": 11,
   "id": "b8181d3b",
   "metadata": {},
   "outputs": [],
   "source": [
    "from typing import TypedDict\n",
    "from langgraph.graph import StateGraph, START, END"
   ]
  },
  {
   "cell_type": "code",
   "execution_count": 2,
   "id": "6a57576a",
   "metadata": {},
   "outputs": [],
   "source": [
    "class AgentState(TypedDict):\n",
    "    num1: int\n",
    "    num2: int\n",
    "    num3: int\n",
    "    num4: int\n",
    "    final_num1: int\n",
    "    final_num2: int\n",
    "    operation1: str\n",
    "    operation2: str"
   ]
  },
  {
   "cell_type": "code",
   "execution_count": 3,
   "id": "9a035c89",
   "metadata": {},
   "outputs": [],
   "source": [
    "def adder1(state:AgentState) -> AgentState:\n",
    "    \"\"\"This state is for adding two numbers.\"\"\"\n",
    "\n",
    "    state['final_num1'] = state['num1'] + state['num2']\n",
    "    return state\n",
    "\n",
    "def multiplier1(state:AgentState) -> AgentState:\n",
    "    \"\"\"This state is for subtracting two numbers.\"\"\"\n",
    "\n",
    "    state['final_num1'] = state['num1'] * state['num2']\n",
    "    return state\n",
    "\n",
    "def decide_next_node1(state: AgentState) -> AgentState:\n",
    "    \"\"\"This state is deciding the next node with respect to the operation.\"\"\"\n",
    "\n",
    "    print(\"STAGE1\")\n",
    "    if state['operation1'] == \"+\":\n",
    "        print(\"addition_stage1\")\n",
    "        return \"addition_operation_stage1\"\n",
    "    elif state['operation1'] == \"*\":\n",
    "        print('multiplication_stage1')\n",
    "        return \"multiplication_operation_stage1\"\n",
    "\n",
    "def adder2(state: AgentState) -> AgentState:\n",
    "    \"\"\"This state is for adding two numbers in the second state.\"\"\"\n",
    "\n",
    "    state['final_num2'] = state['num3'] + state['num4']\n",
    "    return state\n",
    "\n",
    "def subtractor2(state: AgentState) -> AgentState:\n",
    "    \"\"\"This state is subtracting second number from the first number in the second stage.\"\"\"\n",
    "\n",
    "    state['final_num2'] = state['num3'] - state['num4']\n",
    "    return state\n",
    "\n",
    "def decide_next_node2(state: AgentState) -> AgentState:\n",
    "    \"\"\"This state is deciding the next node with respect to the operation in the second stage.\"\"\"\n",
    "\n",
    "    print(\"STAGE2\")\n",
    "    if state['operation2'] == \"+\":\n",
    "        print(\"addition_stage2\")\n",
    "        return \"addition_operation_stage2\"\n",
    "    elif state['operation2'] == \"-\":\n",
    "        print(\"subtraction_stage2\")\n",
    "        return \"subtraction_operation_stage2\"\n",
    "    "
   ]
  },
  {
   "cell_type": "code",
   "execution_count": 4,
   "id": "05d143f0",
   "metadata": {},
   "outputs": [],
   "source": [
    "graph = StateGraph(AgentState)\n",
    "\n",
    "graph.add_node(\"adding_node_stage1\", adder1)\n",
    "graph.add_node(\"multiply_node_stage1\", multiplier1)\n",
    "graph.add_node(\"router_stage1\", lambda state:state)\n",
    "\n",
    "graph.add_node(\"adding_node_stage2\", adder2)\n",
    "graph.add_node(\"subtract_node_stage2\", subtractor2)\n",
    "graph.add_node(\"router_stage2\", lambda state:state)\n",
    "\n",
    "graph.add_edge(START, \"router_stage1\")\n",
    "graph.add_conditional_edges(\n",
    "    \"router_stage1\",\n",
    "    decide_next_node1,\n",
    "    {\n",
    "        #Edge : Node\n",
    "        \"addition_operation_stage1\" : \"adding_node_stage1\",\n",
    "        \"multiplication_operation_stage1\" : \"multiply_node_stage1\"\n",
    "    }\n",
    ")\n",
    "graph.add_edge(\"adding_node_stage1\", \"router_stage2\")\n",
    "graph.add_edge(\"multiply_node_stage1\", \"router_stage2\")\n",
    "\n",
    "graph.add_conditional_edges(\n",
    "    \"router_stage2\",\n",
    "    decide_next_node2,\n",
    "    {\n",
    "        #Edge : Node\n",
    "        \"addition_operation_stage2\" : \"adding_node_stage2\",\n",
    "        \"subtraction_operation_stage2\" : \"subtract_node_stage2\"\n",
    "    }\n",
    ")\n",
    "graph.add_edge(\"adding_node_stage2\", END)\n",
    "graph.add_edge(\"subtract_node_stage2\", END)\n",
    "\n",
    "app = graph.compile()"
   ]
  },
  {
   "cell_type": "code",
   "execution_count": 5,
   "id": "440a2650",
   "metadata": {},
   "outputs": [
    {
     "ename": "ValueError",
     "evalue": "Failed to reach https://mermaid.ink/ API while trying to render your graph. Status code: 502.\n\nTo resolve this issue:\n1. Check your internet connection and try again\n2. Try with higher retry settings: `draw_mermaid_png(..., max_retries=5, retry_delay=2.0)`\n3. Use the Pyppeteer rendering method which will render your graph locally in a browser: `draw_mermaid_png(..., draw_method=MermaidDrawMethod.PYPPETEER)`",
     "output_type": "error",
     "traceback": [
      "\u001b[31m---------------------------------------------------------------------------\u001b[39m",
      "\u001b[31mValueError\u001b[39m                                Traceback (most recent call last)",
      "\u001b[36mCell\u001b[39m\u001b[36m \u001b[39m\u001b[32mIn[5]\u001b[39m\u001b[32m, line 2\u001b[39m\n\u001b[32m      1\u001b[39m \u001b[38;5;28;01mfrom\u001b[39;00m\u001b[38;5;250m \u001b[39m\u001b[34;01mIPython\u001b[39;00m\u001b[34;01m.\u001b[39;00m\u001b[34;01mdisplay\u001b[39;00m\u001b[38;5;250m \u001b[39m\u001b[38;5;28;01mimport\u001b[39;00m Image, display\n\u001b[32m----> \u001b[39m\u001b[32m2\u001b[39m display(Image(\u001b[43mapp\u001b[49m\u001b[43m.\u001b[49m\u001b[43mget_graph\u001b[49m\u001b[43m(\u001b[49m\u001b[43m)\u001b[49m\u001b[43m.\u001b[49m\u001b[43mdraw_mermaid_png\u001b[49m\u001b[43m(\u001b[49m\u001b[43m)\u001b[49m))\n",
      "\u001b[36mFile \u001b[39m\u001b[32mc:\\Users\\gaurav.gupta1\\workspace\\dev\\langgraph\\gen_ai\\Lib\\site-packages\\langchain_core\\runnables\\graph.py:702\u001b[39m, in \u001b[36mGraph.draw_mermaid_png\u001b[39m\u001b[34m(self, curve_style, node_colors, wrap_label_n_words, output_file_path, draw_method, background_color, padding, max_retries, retry_delay, frontmatter_config)\u001b[39m\n\u001b[32m    692\u001b[39m \u001b[38;5;28;01mfrom\u001b[39;00m\u001b[38;5;250m \u001b[39m\u001b[34;01mlangchain_core\u001b[39;00m\u001b[34;01m.\u001b[39;00m\u001b[34;01mrunnables\u001b[39;00m\u001b[34;01m.\u001b[39;00m\u001b[34;01mgraph_mermaid\u001b[39;00m\u001b[38;5;250m \u001b[39m\u001b[38;5;28;01mimport\u001b[39;00m (  \u001b[38;5;66;03m# noqa: PLC0415\u001b[39;00m\n\u001b[32m    693\u001b[39m     draw_mermaid_png,\n\u001b[32m    694\u001b[39m )\n\u001b[32m    696\u001b[39m mermaid_syntax = \u001b[38;5;28mself\u001b[39m.draw_mermaid(\n\u001b[32m    697\u001b[39m     curve_style=curve_style,\n\u001b[32m    698\u001b[39m     node_colors=node_colors,\n\u001b[32m    699\u001b[39m     wrap_label_n_words=wrap_label_n_words,\n\u001b[32m    700\u001b[39m     frontmatter_config=frontmatter_config,\n\u001b[32m    701\u001b[39m )\n\u001b[32m--> \u001b[39m\u001b[32m702\u001b[39m \u001b[38;5;28;01mreturn\u001b[39;00m \u001b[43mdraw_mermaid_png\u001b[49m\u001b[43m(\u001b[49m\n\u001b[32m    703\u001b[39m \u001b[43m    \u001b[49m\u001b[43mmermaid_syntax\u001b[49m\u001b[43m=\u001b[49m\u001b[43mmermaid_syntax\u001b[49m\u001b[43m,\u001b[49m\n\u001b[32m    704\u001b[39m \u001b[43m    \u001b[49m\u001b[43moutput_file_path\u001b[49m\u001b[43m=\u001b[49m\u001b[43moutput_file_path\u001b[49m\u001b[43m,\u001b[49m\n\u001b[32m    705\u001b[39m \u001b[43m    \u001b[49m\u001b[43mdraw_method\u001b[49m\u001b[43m=\u001b[49m\u001b[43mdraw_method\u001b[49m\u001b[43m,\u001b[49m\n\u001b[32m    706\u001b[39m \u001b[43m    \u001b[49m\u001b[43mbackground_color\u001b[49m\u001b[43m=\u001b[49m\u001b[43mbackground_color\u001b[49m\u001b[43m,\u001b[49m\n\u001b[32m    707\u001b[39m \u001b[43m    \u001b[49m\u001b[43mpadding\u001b[49m\u001b[43m=\u001b[49m\u001b[43mpadding\u001b[49m\u001b[43m,\u001b[49m\n\u001b[32m    708\u001b[39m \u001b[43m    \u001b[49m\u001b[43mmax_retries\u001b[49m\u001b[43m=\u001b[49m\u001b[43mmax_retries\u001b[49m\u001b[43m,\u001b[49m\n\u001b[32m    709\u001b[39m \u001b[43m    \u001b[49m\u001b[43mretry_delay\u001b[49m\u001b[43m=\u001b[49m\u001b[43mretry_delay\u001b[49m\u001b[43m,\u001b[49m\n\u001b[32m    710\u001b[39m \u001b[43m\u001b[49m\u001b[43m)\u001b[49m\n",
      "\u001b[36mFile \u001b[39m\u001b[32mc:\\Users\\gaurav.gupta1\\workspace\\dev\\langgraph\\gen_ai\\Lib\\site-packages\\langchain_core\\runnables\\graph_mermaid.py:310\u001b[39m, in \u001b[36mdraw_mermaid_png\u001b[39m\u001b[34m(mermaid_syntax, output_file_path, draw_method, background_color, padding, max_retries, retry_delay)\u001b[39m\n\u001b[32m    304\u001b[39m     img_bytes = asyncio.run(\n\u001b[32m    305\u001b[39m         _render_mermaid_using_pyppeteer(\n\u001b[32m    306\u001b[39m             mermaid_syntax, output_file_path, background_color, padding\n\u001b[32m    307\u001b[39m         )\n\u001b[32m    308\u001b[39m     )\n\u001b[32m    309\u001b[39m \u001b[38;5;28;01melif\u001b[39;00m draw_method == MermaidDrawMethod.API:\n\u001b[32m--> \u001b[39m\u001b[32m310\u001b[39m     img_bytes = \u001b[43m_render_mermaid_using_api\u001b[49m\u001b[43m(\u001b[49m\n\u001b[32m    311\u001b[39m \u001b[43m        \u001b[49m\u001b[43mmermaid_syntax\u001b[49m\u001b[43m,\u001b[49m\n\u001b[32m    312\u001b[39m \u001b[43m        \u001b[49m\u001b[43moutput_file_path\u001b[49m\u001b[43m=\u001b[49m\u001b[43moutput_file_path\u001b[49m\u001b[43m,\u001b[49m\n\u001b[32m    313\u001b[39m \u001b[43m        \u001b[49m\u001b[43mbackground_color\u001b[49m\u001b[43m=\u001b[49m\u001b[43mbackground_color\u001b[49m\u001b[43m,\u001b[49m\n\u001b[32m    314\u001b[39m \u001b[43m        \u001b[49m\u001b[43mmax_retries\u001b[49m\u001b[43m=\u001b[49m\u001b[43mmax_retries\u001b[49m\u001b[43m,\u001b[49m\n\u001b[32m    315\u001b[39m \u001b[43m        \u001b[49m\u001b[43mretry_delay\u001b[49m\u001b[43m=\u001b[49m\u001b[43mretry_delay\u001b[49m\u001b[43m,\u001b[49m\n\u001b[32m    316\u001b[39m \u001b[43m    \u001b[49m\u001b[43m)\u001b[49m\n\u001b[32m    317\u001b[39m \u001b[38;5;28;01melse\u001b[39;00m:\n\u001b[32m    318\u001b[39m     supported_methods = \u001b[33m\"\u001b[39m\u001b[33m, \u001b[39m\u001b[33m\"\u001b[39m.join([m.value \u001b[38;5;28;01mfor\u001b[39;00m m \u001b[38;5;129;01min\u001b[39;00m MermaidDrawMethod])\n",
      "\u001b[36mFile \u001b[39m\u001b[32mc:\\Users\\gaurav.gupta1\\workspace\\dev\\langgraph\\gen_ai\\Lib\\site-packages\\langchain_core\\runnables\\graph_mermaid.py:463\u001b[39m, in \u001b[36m_render_mermaid_using_api\u001b[39m\u001b[34m(mermaid_syntax, output_file_path, background_color, file_type, max_retries, retry_delay)\u001b[39m\n\u001b[32m    458\u001b[39m     \u001b[38;5;66;03m# For other status codes, fail immediately\u001b[39;00m\n\u001b[32m    459\u001b[39m     msg = (\n\u001b[32m    460\u001b[39m         \u001b[33m\"\u001b[39m\u001b[33mFailed to reach https://mermaid.ink/ API while trying to render \u001b[39m\u001b[33m\"\u001b[39m\n\u001b[32m    461\u001b[39m         \u001b[33mf\u001b[39m\u001b[33m\"\u001b[39m\u001b[33myour graph. Status code: \u001b[39m\u001b[38;5;132;01m{\u001b[39;00mresponse.status_code\u001b[38;5;132;01m}\u001b[39;00m\u001b[33m.\u001b[39m\u001b[38;5;130;01m\\n\u001b[39;00m\u001b[38;5;130;01m\\n\u001b[39;00m\u001b[33m\"\u001b[39m\n\u001b[32m    462\u001b[39m     ) + error_msg_suffix\n\u001b[32m--> \u001b[39m\u001b[32m463\u001b[39m     \u001b[38;5;28;01mraise\u001b[39;00m \u001b[38;5;167;01mValueError\u001b[39;00m(msg)\n\u001b[32m    465\u001b[39m \u001b[38;5;28;01mexcept\u001b[39;00m (requests.RequestException, requests.Timeout) \u001b[38;5;28;01mas\u001b[39;00m e:\n\u001b[32m    466\u001b[39m     \u001b[38;5;28;01mif\u001b[39;00m attempt < max_retries:\n\u001b[32m    467\u001b[39m         \u001b[38;5;66;03m# Exponential backoff with jitter\u001b[39;00m\n",
      "\u001b[31mValueError\u001b[39m: Failed to reach https://mermaid.ink/ API while trying to render your graph. Status code: 502.\n\nTo resolve this issue:\n1. Check your internet connection and try again\n2. Try with higher retry settings: `draw_mermaid_png(..., max_retries=5, retry_delay=2.0)`\n3. Use the Pyppeteer rendering method which will render your graph locally in a browser: `draw_mermaid_png(..., draw_method=MermaidDrawMethod.PYPPETEER)`"
     ]
    }
   ],
   "source": [
    "from IPython.display import Image, display\n",
    "display(Image(app.get_graph().draw_mermaid_png()))"
   ]
  },
  {
   "cell_type": "code",
   "execution_count": 6,
   "id": "eee1c688",
   "metadata": {},
   "outputs": [
    {
     "name": "stdout",
     "output_type": "stream",
     "text": [
      "STAGE1\n",
      "addition_stage1\n",
      "STAGE2\n",
      "addition_stage2\n"
     ]
    },
    {
     "data": {
      "text/plain": [
       "{'num1': 10,\n",
       " 'num2': 5,\n",
       " 'num3': 7,\n",
       " 'num4': 3,\n",
       " 'final_num1': 15,\n",
       " 'final_num2': 10,\n",
       " 'operation1': '+',\n",
       " 'operation2': '+'}"
      ]
     },
     "execution_count": 6,
     "metadata": {},
     "output_type": "execute_result"
    }
   ],
   "source": [
    "initial_state = AgentState(num1 = 10, num2 = 5, num3 = 7, num4 = 3, operation1 = \"+\", operation2 = \"+\")\n",
    "result = app.invoke(initial_state)\n",
    "result"
   ]
  },
  {
   "cell_type": "code",
   "execution_count": 8,
   "id": "63d0cc93",
   "metadata": {},
   "outputs": [
    {
     "name": "stdout",
     "output_type": "stream",
     "text": [
      "STAGE1\n",
      "addition_stage1\n",
      "STAGE2\n",
      "subtraction_stage2\n"
     ]
    },
    {
     "data": {
      "text/plain": [
       "{'num1': 10,\n",
       " 'num2': 5,\n",
       " 'num3': 7,\n",
       " 'num4': 3,\n",
       " 'final_num1': 15,\n",
       " 'final_num2': 4,\n",
       " 'operation1': '+',\n",
       " 'operation2': '-'}"
      ]
     },
     "execution_count": 8,
     "metadata": {},
     "output_type": "execute_result"
    }
   ],
   "source": [
    "initial_state = AgentState(num1 = 10, num2 = 5, num3 = 7, num4 = 3, operation1 = \"+\", operation2 = \"-\")\n",
    "result = app.invoke(initial_state)\n",
    "result"
   ]
  },
  {
   "cell_type": "code",
   "execution_count": 9,
   "id": "6b904700",
   "metadata": {},
   "outputs": [
    {
     "name": "stdout",
     "output_type": "stream",
     "text": [
      "STAGE1\n",
      "multiplication_stage1\n",
      "STAGE2\n",
      "addition_stage2\n"
     ]
    },
    {
     "data": {
      "text/plain": [
       "{'num1': 10,\n",
       " 'num2': 5,\n",
       " 'num3': 7,\n",
       " 'num4': 3,\n",
       " 'final_num1': 50,\n",
       " 'final_num2': 10,\n",
       " 'operation1': '*',\n",
       " 'operation2': '+'}"
      ]
     },
     "execution_count": 9,
     "metadata": {},
     "output_type": "execute_result"
    }
   ],
   "source": [
    "initial_state = AgentState(num1 = 10, num2 = 5, num3 = 7, num4 = 3, operation1 = \"*\", operation2 = \"+\")\n",
    "result = app.invoke(initial_state)\n",
    "result"
   ]
  },
  {
   "cell_type": "code",
   "execution_count": 10,
   "id": "2ae07576",
   "metadata": {},
   "outputs": [
    {
     "name": "stdout",
     "output_type": "stream",
     "text": [
      "STAGE1\n",
      "multiplication_stage1\n",
      "STAGE2\n",
      "subtraction_stage2\n"
     ]
    },
    {
     "data": {
      "text/plain": [
       "{'num1': 10,\n",
       " 'num2': 5,\n",
       " 'num3': 7,\n",
       " 'num4': 3,\n",
       " 'final_num1': 50,\n",
       " 'final_num2': 4,\n",
       " 'operation1': '*',\n",
       " 'operation2': '-'}"
      ]
     },
     "execution_count": 10,
     "metadata": {},
     "output_type": "execute_result"
    }
   ],
   "source": [
    "initial_state = AgentState(num1 = 10, num2 = 5, num3 = 7, num4 = 3, operation1 = \"*\", operation2 = \"-\")\n",
    "result = app.invoke(initial_state)\n",
    "result"
   ]
  },
  {
   "cell_type": "code",
   "execution_count": null,
   "id": "545fa471",
   "metadata": {},
   "outputs": [],
   "source": []
  }
 ],
 "metadata": {
  "kernelspec": {
   "display_name": "gen_ai",
   "language": "python",
   "name": "python3"
  },
  "language_info": {
   "codemirror_mode": {
    "name": "ipython",
    "version": 3
   },
   "file_extension": ".py",
   "mimetype": "text/x-python",
   "name": "python",
   "nbconvert_exporter": "python",
   "pygments_lexer": "ipython3",
   "version": "3.13.3"
  }
 },
 "nbformat": 4,
 "nbformat_minor": 5
}

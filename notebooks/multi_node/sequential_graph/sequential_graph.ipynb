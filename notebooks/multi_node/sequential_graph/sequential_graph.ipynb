{
 "cells": [
  {
   "cell_type": "markdown",
   "id": "603428c6",
   "metadata": {},
   "source": [
    "# Sequential graph with multi node"
   ]
  },
  {
   "cell_type": "markdown",
   "id": "6dc089da",
   "metadata": {},
   "source": [
    "Sequential Graph\n",
    "\n",
    "    • Multiple nodes sequentially process and update different part of the state.\n",
    "    • Connect nodes together in a graph.\n",
    "    • See how the state is transformed step-by-step."
   ]
  },
  {
   "cell_type": "code",
   "execution_count": 6,
   "id": "101a5660",
   "metadata": {},
   "outputs": [],
   "source": [
    "from typing import Dict, TypedDict\n",
    "from langgraph.graph import StateGraph\n",
    "from IPython.display import Image, display"
   ]
  },
  {
   "cell_type": "code",
   "execution_count": 17,
   "id": "78ad537a",
   "metadata": {},
   "outputs": [],
   "source": [
    "class AgentState(TypedDict):\n",
    "    name: str\n",
    "    age: int\n",
    "    final: str"
   ]
  },
  {
   "cell_type": "code",
   "execution_count": 18,
   "id": "5ff41766",
   "metadata": {},
   "outputs": [],
   "source": [
    "def name_node(state: AgentState) -> AgentState:\n",
    "    \"\"\"The first node state adding name to the message.\"\"\"\n",
    "    \n",
    "    state['final'] = f\"Hi {state['name']}! \"\n",
    "    return state\n",
    "\n",
    "def age_node(state: AgentState) -> AgentState:\n",
    "    \"\"\"the age node state adding age to the message.\"\"\"\n",
    "\n",
    "    state['final'] = state['final'] + f\"Your age is {state['age']} years old.\"\n",
    "    return state\n"
   ]
  },
  {
   "cell_type": "code",
   "execution_count": 19,
   "id": "f0d014f4",
   "metadata": {},
   "outputs": [],
   "source": [
    "graph = StateGraph(AgentState)\n",
    "graph.add_node(\"first node\", name_node)\n",
    "graph.add_node(\"second node\", age_node)\n",
    "graph.set_entry_point(\"first node\")\n",
    "graph.add_edge(\"first node\", \"second node\")\n",
    "graph.set_finish_point(\"second node\")\n",
    "\n",
    "app = graph.compile()"
   ]
  },
  {
   "cell_type": "code",
   "execution_count": 20,
   "id": "e11efd34",
   "metadata": {},
   "outputs": [
    {
     "data": {
      "image/png": "[encoded data removed]",
      "text/plain": [
       "<IPython.core.display.Image object>"
      ]
     },
     "metadata": {},
     "output_type": "display_data"
    }
   ],
   "source": [
    "display(Image(app.get_graph().draw_mermaid_png()))"
   ]
  },
  {
   "cell_type": "code",
   "execution_count": 21,
   "id": "76b1740d",
   "metadata": {},
   "outputs": [
    {
     "data": {
      "text/plain": [
       "'Hi Gaurav! Your age is 29 years old.'"
      ]
     },
     "execution_count": 21,
     "metadata": {},
     "output_type": "execute_result"
    }
   ],
   "source": [
    "result = app.invoke({'name' : 'Gaurav', 'age' : 29})\n",
    "result['final']"
   ]
  },
  {
   "cell_type": "code",
   "execution_count": null,
   "id": "b5c56395",
   "metadata": {},
   "outputs": [],
   "source": []
  }
 ],
 "metadata": {
  "kernelspec": {
   "display_name": "gen_ai",
   "language": "python",
   "name": "python3"
  },
  "language_info": {
   "codemirror_mode": {
    "name": "ipython",
    "version": 3
   },
   "file_extension": ".py",
   "mimetype": "text/x-python",
   "name": "python",
   "nbconvert_exporter": "python",
   "pygments_lexer": "ipython3",
   "version": "3.13.3"
  }
 },
 "nbformat": 4,
 "nbformat_minor": 5
}

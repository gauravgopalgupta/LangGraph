{
 "cells": [
  {
   "cell_type": "markdown",
   "id": "facce4de",
   "metadata": {},
   "source": [
    "# The Sequential graph agent for intro"
   ]
  },
  {
   "cell_type": "code",
   "execution_count": 12,
   "id": "00e4b7fb",
   "metadata": {},
   "outputs": [],
   "source": [
    "from typing import TypedDict, List\n",
    "from langgraph.graph import StateGraph\n",
    "from IPython.display import display, Image"
   ]
  },
  {
   "cell_type": "code",
   "execution_count": 13,
   "id": "ceb15e02",
   "metadata": {},
   "outputs": [],
   "source": [
    "class AgentState(TypedDict):\n",
    "    name : str\n",
    "    age : int\n",
    "    skills : List[str]\n",
    "    result : str"
   ]
  },
  {
   "cell_type": "code",
   "execution_count": 15,
   "id": "c6ba5f22",
   "metadata": {},
   "outputs": [],
   "source": [
    "def name_node(state: AgentState) -> AgentState:\n",
    "    \"\"\"The function which enters the name into the message.\"\"\"\n",
    "\n",
    "    state['result'] = f\"Hi {state['name']}!, \"\n",
    "    return state\n",
    "\n",
    "def age_node(state: AgentState) -> AgentState:\n",
    "    \"\"\"The function which enters the age into the message.\"\"\"\n",
    "\n",
    "    state['result'] = state['result'] + f\"You are {state['age']} years old.\"\n",
    "    return state\n",
    "\n",
    "def skills_node(state: AgentState) -> AgentState:\n",
    "    \"\"\"This fucntion which gives the details of the skills in the message.\"\"\"\n",
    "\n",
    "    state['result'] = state['result'] + f\" Your skills are \"\n",
    "    for val in state['skills']:\n",
    "        state['result'] = state['result'] + val + \", \"\n",
    "    \n",
    "    state['result'] = state['result'] + \"etc.\"\n",
    "    return state"
   ]
  },
  {
   "cell_type": "code",
   "execution_count": 16,
   "id": "1d5ae6ad",
   "metadata": {},
   "outputs": [],
   "source": [
    "graph = StateGraph(AgentState)\n",
    "\n",
    "graph.add_node(\"first node\", name_node)\n",
    "graph.add_node(\"second node\", age_node)\n",
    "graph.add_node(\"third node\", skills_node)\n",
    "\n",
    "graph.add_edge(\"first node\", \"second node\")\n",
    "graph.add_edge(\"second node\", \"third node\")\n",
    "\n",
    "graph.set_entry_point(\"first node\")\n",
    "graph.set_finish_point(\"third node\")\n",
    "\n",
    "app = graph.compile()"
   ]
  },
  {
   "cell_type": "code",
   "execution_count": 17,
   "id": "8df650d8",
   "metadata": {},
   "outputs": [
    {
     "data": {
      "image/png": "[encoded data removed]",
      "text/plain": [
       "<IPython.core.display.Image object>"
      ]
     },
     "metadata": {},
     "output_type": "display_data"
    }
   ],
   "source": [
    "display(Image(app.get_graph().draw_mermaid_png()))"
   ]
  },
  {
   "cell_type": "code",
   "execution_count": 18,
   "id": "ab9e1ad2",
   "metadata": {},
   "outputs": [
    {
     "data": {
      "text/plain": [
       "'Hi Gaurav!, You are 29 years old. Your skills are cricket, badminton, trekking, swimming, etc.'"
      ]
     },
     "execution_count": 18,
     "metadata": {},
     "output_type": "execute_result"
    }
   ],
   "source": [
    "message = app.invoke({\"name\": \"Gaurav\", \"age\": 29, \"skills\" : ['cricket', 'badminton', 'trekking', 'swimming']})\n",
    "message['result']"
   ]
  },
  {
   "cell_type": "code",
   "execution_count": null,
   "id": "dc0c6294",
   "metadata": {},
   "outputs": [],
   "source": []
  }
 ],
 "metadata": {
  "kernelspec": {
   "display_name": "gen_ai",
   "language": "python",
   "name": "python3"
  },
  "language_info": {
   "codemirror_mode": {
    "name": "ipython",
    "version": 3
   },
   "file_extension": ".py",
   "mimetype": "text/x-python",
   "name": "python",
   "nbconvert_exporter": "python",
   "pygments_lexer": "ipython3",
   "version": "3.13.3"
  }
 },
 "nbformat": 4,
 "nbformat_minor": 5
}

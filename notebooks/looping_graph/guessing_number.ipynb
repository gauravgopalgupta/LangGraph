{
 "cells": [
  {
   "cell_type": "markdown",
   "id": "61c7813e",
   "metadata": {},
   "source": [
    "# Guessing the number by providing hint as higher or lower"
   ]
  },
  {
   "cell_type": "markdown",
   "id": "5b7f324c",
   "metadata": {},
   "source": [
    "you need to guess the number in the given iteration. first of all make sure the range to be guess. when your program guess the number you need to provide hint as this is a higher number or lower number.\n",
    "If you reach to the number in the given iteration you set the message that you won the game or set the message that Game Over!"
   ]
  },
  {
   "cell_type": "code",
   "execution_count": 12,
   "id": "f86a7ba7",
   "metadata": {},
   "outputs": [],
   "source": [
    "from typing import Dict, List, TypedDict\n",
    "from langgraph.graph import StateGraph, END, START\n",
    "from IPython.display import Image, display\n",
    "import random"
   ]
  },
  {
   "cell_type": "code",
   "execution_count": 59,
   "id": "8ede4fa8",
   "metadata": {},
   "outputs": [],
   "source": [
    "class AgentState(TypedDict):\n",
    "    name : str\n",
    "    lower_bound : int\n",
    "    upper_bound : int\n",
    "    counter : int\n",
    "    counter_max : int\n",
    "    message : str\n",
    "    guess_number : int\n",
    "    target_number : int"
   ]
  },
  {
   "cell_type": "code",
   "execution_count": 65,
   "id": "8a05b061",
   "metadata": {},
   "outputs": [],
   "source": [
    "def greeting_action(state : AgentState) -> AgentState:\n",
    "    \"\"\"this function welcomes you in the game & check the default parameters.\"\"\"\n",
    "\n",
    "    state[\"name\"] = f\"Hi {state[\"name\"]}! Welcome to the Guess Game. You have {state[\"counter_max\"]} chances to win the game.\"\n",
    "    state[\"counter\"] = 0\n",
    "    return state\n",
    "\n",
    "def number_checking(state : AgentState) -> AgentState:\n",
    "    \"\"\"this function check the input values of all the variable, or use default values.\"\"\"\n",
    "\n",
    "    if state[\"lower_bound\"] < 0 | state[\"lower_bound\"] > state[\"upper_bound\"]:\n",
    "        state[\"lower_bound\"] = 0\n",
    "\n",
    "    if state[\"counter_max\"] < 0:\n",
    "        state[\"counter_max\"] = 7\n",
    "    \n",
    "    if state[\"target_number\"] < 0:\n",
    "        state[\"target_number\"] = 0\n",
    "    \n",
    "    return state\n",
    "\n",
    "def guess_action(state : AgentState) -> AgentState:\n",
    "    \"\"\"this function make a guess by random number generator.\"\"\"\n",
    "\n",
    "    print(\"Chance:\", state[\"counter\"]+1)\n",
    "    print(\"Lower Bound:\", state[\"lower_bound\"])\n",
    "    print(\"Upper Bound\", state[\"upper_bound\"])\n",
    "    state[\"guess_number\"] = random.randint(state[\"lower_bound\"], state[\"upper_bound\"])\n",
    "    print(\"Guess Number:\", state[\"guess_number\"])\n",
    "    print(\"Target Number:\", state[\"target_number\"])\n",
    "    state[\"counter\"] += 1\n",
    "\n",
    "    return state\n",
    "\n",
    "def hint_action(state : AgentState) -> AgentState:\n",
    "    \"\"\"This function gives you the hint to change the lower and upper bound as per the guess.\"\"\"\n",
    "    if state[\"guess_number\"] < state[\"target_number\"]:\n",
    "            print(\"HINT : Target number is higher than the guessed number.\")\n",
    "            state[\"lower_bound\"] = state[\"guess_number\"]\n",
    "    else:\n",
    "        print(\"HINT : Target number is lower than the guessed number.\")\n",
    "        state[\"upper_bound\"] = state[\"guess_number\"]\n",
    "    return state\n",
    "\n",
    "\n",
    "def looping_action(state : AgentState) -> AgentState:\n",
    "    \"\"\"This function decide the flow and the loop.\"\"\"\n",
    "    \n",
    "    if (state[\"counter\"] >= state[\"counter_max\"]) | (state[\"guess_number\"] == state['target_number']):\n",
    "        return \"exit\"\n",
    "    else:\n",
    "        return \"loop\"\n",
    "\n",
    "def final_message(state : AgentState) -> AgentState:\n",
    "    \"\"\"This function provides you the final result whether you won or loss the game.\"\"\"\n",
    "\n",
    "    if state[\"guess_number\"] == state[\"target_number\"]:\n",
    "        state[\"message\"] = f\"Congratulations you won the game by finding {state[\"target_number\"]}\"\n",
    "        state[\"message\"] = state[\"message\"] + f\" number in {state[\"counter\"]} chance.\"\n",
    "    else:\n",
    "        state[\"message\"] = f\"Better Luck Next Time! Game Over!\"\n",
    "    \n",
    "    return state"
   ]
  },
  {
   "cell_type": "code",
   "execution_count": 66,
   "id": "416e05f9",
   "metadata": {},
   "outputs": [],
   "source": [
    "graph = StateGraph(AgentState)\n",
    "graph.add_node(\"greeting\", greeting_action)\n",
    "graph.add_node(\"number_checker\", number_checking)\n",
    "graph.add_node(\"guess_node\", guess_action)\n",
    "graph.add_node(\"hint_node\", hint_action)\n",
    "graph.add_node(\"result_node\", final_message)\n",
    "\n",
    "graph.set_entry_point(\"greeting\")\n",
    "graph.add_edge(\"greeting\", \"number_checker\")\n",
    "graph.add_edge(\"number_checker\", \"guess_node\")\n",
    "graph.add_edge(\"guess_node\", \"hint_node\")\n",
    "\n",
    "graph.add_conditional_edges(\n",
    "    \"hint_node\",\n",
    "    looping_action,\n",
    "    {\n",
    "        \"loop\" : \"guess_node\",\n",
    "        \"exit\" : \"result_node\"\n",
    "    }\n",
    ")\n",
    "graph.add_edge(\"result_node\", END)\n",
    "\n",
    "app = graph.compile()"
   ]
  },
  {
   "cell_type": "code",
   "execution_count": 67,
   "id": "268be237",
   "metadata": {},
   "outputs": [
    {
     "data": {
      "image/png": "[encoded data removed]",
      "text/plain": [
       "<IPython.core.display.Image object>"
      ]
     },
     "metadata": {},
     "output_type": "display_data"
    }
   ],
   "source": [
    "display(Image(app.get_graph().draw_mermaid_png()))"
   ]
  },
  {
   "cell_type": "code",
   "execution_count": 68,
   "id": "8276f909",
   "metadata": {},
   "outputs": [
    {
     "name": "stdout",
     "output_type": "stream",
     "text": [
      "Chance: 1\n",
      "Lower Bound: 5\n",
      "Upper Bound 20\n",
      "Guess Number: 14\n",
      "Target Number: 15\n",
      "HINT : Target number is higher than the guessed number.\n",
      "Chance: 2\n",
      "Lower Bound: 14\n",
      "Upper Bound 20\n",
      "Guess Number: 20\n",
      "Target Number: 15\n",
      "HINT : Target number is lower than the guessed number.\n",
      "Chance: 3\n",
      "Lower Bound: 14\n",
      "Upper Bound 20\n",
      "Guess Number: 20\n",
      "Target Number: 15\n",
      "HINT : Target number is lower than the guessed number.\n",
      "Chance: 4\n",
      "Lower Bound: 14\n",
      "Upper Bound 20\n",
      "Guess Number: 15\n",
      "Target Number: 15\n",
      "HINT : Target number is lower than the guessed number.\n",
      "{'name': 'Hi Gaurav! Welcome to the Guess Game. You have 7 chances to win the game.', 'lower_bound': 14, 'upper_bound': 15, 'counter': 4, 'counter_max': 7, 'message': 'Congratulations you won the game by finding 15 number in 4 chance.', 'guess_number': 15, 'target_number': 15}\n"
     ]
    }
   ],
   "source": [
    "result = app.invoke(\n",
    "    {\n",
    "        \"name\" : \"Gaurav\",\n",
    "        \"lower_bound\" : 5,\n",
    "        \"upper_bound\" : 20,\n",
    "        \"counter\" : -2,\n",
    "        \"counter_max\" : 7,\n",
    "        \"target_number\" : 15\n",
    "    }\n",
    ")\n",
    "\n",
    "print(result)"
   ]
  },
  {
   "cell_type": "code",
   "execution_count": 69,
   "id": "76bc9081",
   "metadata": {},
   "outputs": [
    {
     "name": "stdout",
     "output_type": "stream",
     "text": [
      "Congratulations you won the game by finding 15 number in 4 chance.\n"
     ]
    }
   ],
   "source": [
    "print(result[\"message\"])"
   ]
  },
  {
   "cell_type": "code",
   "execution_count": null,
   "id": "6fdc8fa8",
   "metadata": {},
   "outputs": [],
   "source": []
  }
 ],
 "metadata": {
  "kernelspec": {
   "display_name": "gen_ai",
   "language": "python",
   "name": "python3"
  },
  "language_info": {
   "codemirror_mode": {
    "name": "ipython",
    "version": 3
   },
   "file_extension": ".py",
   "mimetype": "text/x-python",
   "name": "python",
   "nbconvert_exporter": "python",
   "pygments_lexer": "ipython3",
   "version": "3.13.3"
  }
 },
 "nbformat": 4,
 "nbformat_minor": 5
}
